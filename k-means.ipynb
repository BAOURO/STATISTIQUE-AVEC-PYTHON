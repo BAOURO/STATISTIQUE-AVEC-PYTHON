{
 "cells": [
  {
   "cell_type": "markdown",
   "metadata": {},
   "source": [
    "# Classification hierarchique"
   ]
  },
  {
   "attachments": {},
   "cell_type": "markdown",
   "metadata": {},
   "source": [
    "# Methode des Cas Moyenne (K-means)\n",
    "Cet algorithme suppose que nous connaissions le nombre de classes voulu."
   ]
  },
  {
   "cell_type": "raw",
   "metadata": {},
   "source": [
    "# Cas Pratique sur Python à l'aide Jupyter"
   ]
  },
  {
   "cell_type": "markdown",
   "metadata": {},
   "source": [
    "# Importation des libraries"
   ]
  },
  {
   "cell_type": "markdown",
   "metadata": {},
   "source": [
    "Nous avons besoin de quatre (04) librairies à savoir:\n",
    "- Numpy pour la création et l'exploitation des données du type tableau\n",
    "- Scipy.stats qui contient le package des lois statistiques\n",
    "- Scipy.cluster qui contient le package des liens hiérarchique\n",
    "- Matplotlib.pyplot qui contient la librarie graphique"
   ]
  },
  {
   "cell_type": "code",
   "execution_count": 2,
   "metadata": {},
   "outputs": [],
   "source": [
    "import numpy as np\n",
    "import scipy.stats as stat\n",
    "import scipy.cluster as cluster\n",
    "import matplotlib.pyplot as plt"
   ]
  },
  {
   "cell_type": "markdown",
   "metadata": {},
   "source": [
    "# Chargement du fichier texte qui contient les données\n",
    "Ce fichier s'appelle \"donnee.txt\" qui contient des données du type reel categorise par le prix et le salaire"
   ]
  },
  {
   "cell_type": "code",
   "execution_count": 3,
   "metadata": {
    "scrolled": false
   },
   "outputs": [],
   "source": [
    "M = np.loadtxt(\"donnee.txt\",delimiter=\"\\t\",dtype=float)"
   ]
  },
  {
   "cell_type": "markdown",
   "metadata": {},
   "source": [
    "# Generation du Graphique nuage de points"
   ]
  },
  {
   "cell_type": "code",
   "execution_count": 6,
   "metadata": {},
   "outputs": [
    {
     "data": {
      "text/plain": [
       "[<matplotlib.lines.Line2D at 0x10d2bfd198>]"
      ]
     },
     "execution_count": 6,
     "metadata": {},
     "output_type": "execute_result"
    },
    {
     "data": {
      "image/png": "[encoded data removed]",
      "text/plain": [
       "<Figure size 432x288 with 1 Axes>"
      ]
     },
     "metadata": {},
     "output_type": "display_data"
    }
   ],
   "source": [
    "plt.plot(M[:,0],M[:,1],\"ko\")"
   ]
  },
  {
   "cell_type": "code",
   "execution_count": null,
   "metadata": {},
   "outputs": [],
   "source": [
    "# Centrer et réduire puis on choisie k egal a 3 "
   ]
  },
  {
   "cell_type": "code",
   "execution_count": 12,
   "metadata": {},
   "outputs": [],
   "source": [
    "Z = stat.zscore(M,axis=0,ddof=0)\n",
    "centroid,label = cluster.vq.kmeans2(Z,k=3)"
   ]
  },
  {
   "attachments": {},
   "cell_type": "markdown",
   "metadata": {},
   "source": [
    "# Affichage du Centres de classes"
   ]
  },
  {
   "cell_type": "code",
   "execution_count": 13,
   "metadata": {},
   "outputs": [
    {
     "name": "stdout",
     "output_type": "stream",
     "text": [
      "[[ 0.20465743 -0.36023417]\n",
      " [ 1.10474621  1.44242527]\n",
      " [-1.41173236 -0.90207401]]\n"
     ]
    }
   ],
   "source": [
    "print (centroid)"
   ]
  },
  {
   "attachments": {},
   "cell_type": "markdown",
   "metadata": {},
   "source": [
    "# Représentation graphique"
   ]
  },
  {
   "cell_type": "code",
   "execution_count": 20,
   "metadata": {},
   "outputs": [
    {
     "data": {
      "text/plain": [
       "[<matplotlib.lines.Line2D at 0x10d2fce8d0>,\n",
       " <matplotlib.lines.Line2D at 0x10d2fcea58>,\n",
       " <matplotlib.lines.Line2D at 0x10d2fd72e8>,\n",
       " <matplotlib.lines.Line2D at 0x10d2fd7438>]"
      ]
     },
     "execution_count": 20,
     "metadata": {},
     "output_type": "execute_result"
    },
    {
     "data": {
      "image/png": "[encoded data removed]",
      "text/plain": [
       "<Figure size 432x288 with 1 Axes>"
      ]
     },
     "metadata": {},
     "output_type": "display_data"
    }
   ],
   "source": [
    "plt.plot(M[label==0,0],M[label==0,1],\"bo\",\n",
    "         M[label==1,0],M[label==1,1],\"ro\",\n",
    "         M[label==2,0],M[label==2,1],\"go\",\n",
    "        M[label==3,0],M[label==3,1],\"ko\")"
   ]
  },
  {
   "attachments": {},
   "cell_type": "markdown",
   "metadata": {},
   "source": [
    "# Dendrogramme - méthode de Ward"
   ]
  },
  {
   "cell_type": "code",
   "execution_count": 21,
   "metadata": {},
   "outputs": [
    {
     "data": {
      "text/plain": [
       "{'icoord': [[5.0, 5.0, 15.0, 15.0],\n",
       "  [25.0, 25.0, 35.0, 35.0],\n",
       "  [55.0, 55.0, 65.0, 65.0],\n",
       "  [45.0, 45.0, 60.0, 60.0],\n",
       "  [30.0, 30.0, 52.5, 52.5],\n",
       "  [10.0, 10.0, 41.25, 41.25]],\n",
       " 'dcoord': [[0.0, 0.5843285974446458, 0.5843285974446458, 0.0],\n",
       "  [0.0, 0.6424849807786354, 0.6424849807786354, 0.0],\n",
       "  [0.0, 0.3581080827727696, 0.3581080827727696, 0.0],\n",
       "  [0.0, 1.2870467690137846, 1.2870467690137846, 0.3581080827727696],\n",
       "  [0.6424849807786354,\n",
       "   2.6410481383654063,\n",
       "   2.6410481383654063,\n",
       "   1.2870467690137846],\n",
       "  [0.5843285974446458,\n",
       "   4.299524053420664,\n",
       "   4.299524053420664,\n",
       "   2.6410481383654063]],\n",
       " 'ivl': ['0', '4', '2', '3', '1', '5', '6'],\n",
       " 'leaves': [0, 4, 2, 3, 1, 5, 6],\n",
       " 'color_list': ['g', 'r', 'r', 'r', 'r', 'b']}"
      ]
     },
     "execution_count": 21,
     "metadata": {},
     "output_type": "execute_result"
    },
    {
     "data": {
      "image/png": "[encoded data removed]",
      "text/plain": [
       "<Figure size 432x288 with 1 Axes>"
      ]
     },
     "metadata": {},
     "output_type": "display_data"
    }
   ],
   "source": [
    "W = cluster.hierarchy.ward(Z)\n",
    "cluster.hierarchy.dendrogram(W)"
   ]
  },
  {
   "cell_type": "markdown",
   "metadata": {},
   "source": [
    "# Decoupage et affichage a nouveau du graphique"
   ]
  },
  {
   "cell_type": "code",
   "execution_count": 23,
   "metadata": {},
   "outputs": [
    {
     "data": {
      "text/plain": [
       "[<matplotlib.lines.Line2D at 0x10d3038780>,\n",
       " <matplotlib.lines.Line2D at 0x10d30382b0>,\n",
       " <matplotlib.lines.Line2D at 0x10d3011198>,\n",
       " <matplotlib.lines.Line2D at 0x10d3011710>]"
      ]
     },
     "execution_count": 23,
     "metadata": {},
     "output_type": "execute_result"
    },
    {
     "data": {
      "image/png": "[encoded data removed]",
      "text/plain": [
       "<Figure size 432x288 with 1 Axes>"
      ]
     },
     "metadata": {},
     "output_type": "display_data"
    }
   ],
   "source": [
    "idx = cluster.hierarchy.fcluster(W,t=4,criterion=\"distance\")\n",
    "plt.plot(M[idx==1,0],M[idx==1,1],\"bo\",\n",
    "         M[idx==2,0],M[idx==2,1],\"ro\",\n",
    "         M[idx==3,0],M[idx==3,1],\"go\",\n",
    "         M[idx==4,0],M[idx==4,1],\"go\")"
   ]
  },
  {
   "cell_type": "markdown",
   "metadata": {},
   "source": [
    "# Source:\n",
    "- https://mrmint.fr/algorithme-k-means\n",
    "- http://eric.univ-lyon2.fr/~ricco/cours/slides/PI%20-%20statistiques%20avec%20scipy.pdf\n",
    "\n",
    "Merci d'avoir suivit Cordialement DAOUDA HASSANA DAOUDA"
   ]
  }
 ],
 "metadata": {
  "kernelspec": {
   "display_name": "Python 3",
   "language": "python",
   "name": "python3"
  },
  "language_info": {
   "codemirror_mode": {
    "name": "ipython",
    "version": 3
   },
   "file_extension": ".py",
   "mimetype": "text/x-python",
   "name": "python",
   "nbconvert_exporter": "python",
   "pygments_lexer": "ipython3",
   "version": "3.6.5"
  }
 },
 "nbformat": 4,
 "nbformat_minor": 2
}
