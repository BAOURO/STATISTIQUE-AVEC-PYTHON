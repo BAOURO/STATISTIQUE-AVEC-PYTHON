{
 "cells": [
  {
   "cell_type": "markdown",
   "metadata": {},
   "source": [
    "# STATISTIQUE AVEC PYTHON"
   ]
  },
  {
   "cell_type": "markdown",
   "metadata": {},
   "source": [
    "# 1ere Partie: Statistique descriptive avec Python à l'aide de l'outil jupyter d'Anaconda"
   ]
  },
  {
   "cell_type": "markdown",
   "metadata": {},
   "source": [
    "Nous allons utiliser un tableau des donnees de 10 étudiants, on a observé les valeurs des variables : Couleur des Yeux, Sexe, Mention au Bac et Note à l’Examen de Statistique."
   ]
  },
  {
   "cell_type": "markdown",
   "metadata": {},
   "source": [
    "# Creation du tableau a l'aide numpy et pandas"
   ]
  },
  {
   "cell_type": "code",
   "execution_count": 2,
   "metadata": {},
   "outputs": [],
   "source": [
    "import pandas as pd\n",
    "import numpy as np\n",
    "\n",
    "data = {'noms':pd.Series(['Michel','Jean','Stéphane','Charles','Agnès','Nadine','Étienne','Gilles','Aurélie','Stéphanie']), \n",
    "        'yeux':pd.Series(['V','B','N','M','B','V','N','M','B','V']), \n",
    "        'sexe':pd.Series(['M','M','M','M','F','F''M','M','F','F']),\n",
    "        'mention':pd.Series(['P','AB','P','AB','P','B','B','AB','P','B']),\n",
    "        'note':pd.Series([12,8,13,11,10,9,16,14,11,15])}\n",
    "df = pd.DataFrame(data)"
   ]
  },
  {
   "cell_type": "markdown",
   "metadata": {},
   "source": [
    "# Affichage du Tableau"
   ]
  },
  {
   "cell_type": "code",
   "execution_count": 31,
   "metadata": {},
   "outputs": [
    {
     "name": "stdout",
     "output_type": "stream",
     "text": [
      "        noms yeux sexe mention  note\n",
      "0     Michel    V    M       P    12\n",
      "1       Jean    B    M      AB     8\n",
      "2   Stéphane    N    M       P    13\n",
      "3    Charles    M    M      AB    11\n",
      "4      Agnès    B    F       P    10\n",
      "5     Nadine    V   FM       B     9\n",
      "6    Étienne    N    M       B    16\n",
      "7     Gilles    M    F      AB    14\n",
      "8    Aurélie    B    F       P    11\n",
      "9  Stéphanie    V  NaN       B    15\n"
     ]
    }
   ],
   "source": [
    "print (df)"
   ]
  },
  {
   "cell_type": "markdown",
   "metadata": {},
   "source": [
    "# STATISTIQUE Descriptive"
   ]
  },
  {
   "cell_type": "markdown",
   "metadata": {},
   "source": [
    "# Calcul de la Moyenne"
   ]
  },
  {
   "cell_type": "code",
   "execution_count": 3,
   "metadata": {},
   "outputs": [
    {
     "data": {
      "text/plain": [
       "11.9"
      ]
     },
     "execution_count": 3,
     "metadata": {},
     "output_type": "execute_result"
    }
   ],
   "source": [
    "df['note'].mean()"
   ]
  },
  {
   "cell_type": "markdown",
   "metadata": {},
   "source": [
    "# Calcul de l'ecart type"
   ]
  },
  {
   "cell_type": "code",
   "execution_count": 4,
   "metadata": {},
   "outputs": [
    {
     "data": {
      "text/plain": [
       "2.601281735350223"
      ]
     },
     "execution_count": 4,
     "metadata": {},
     "output_type": "execute_result"
    }
   ],
   "source": [
    "df['note'].std()"
   ]
  },
  {
   "cell_type": "markdown",
   "metadata": {},
   "source": [
    "# Calcul de la variance"
   ]
  },
  {
   "cell_type": "code",
   "execution_count": 34,
   "metadata": {},
   "outputs": [
    {
     "data": {
      "text/plain": [
       "6.7666666666666675"
      ]
     },
     "execution_count": 34,
     "metadata": {},
     "output_type": "execute_result"
    }
   ],
   "source": [
    "df['note'].var()"
   ]
  },
  {
   "cell_type": "markdown",
   "metadata": {},
   "source": [
    "# Calcul de la mediane"
   ]
  },
  {
   "cell_type": "code",
   "execution_count": 35,
   "metadata": {},
   "outputs": [
    {
     "data": {
      "text/plain": [
       "11.5"
      ]
     },
     "execution_count": 35,
     "metadata": {},
     "output_type": "execute_result"
    }
   ],
   "source": [
    "df['note'].median()"
   ]
  },
  {
   "cell_type": "markdown",
   "metadata": {},
   "source": [
    " # Calcul du minimum"
   ]
  },
  {
   "cell_type": "code",
   "execution_count": 36,
   "metadata": {},
   "outputs": [
    {
     "data": {
      "text/plain": [
       "8"
      ]
     },
     "execution_count": 36,
     "metadata": {},
     "output_type": "execute_result"
    }
   ],
   "source": [
    "df['note'].min()"
   ]
  },
  {
   "cell_type": "markdown",
   "metadata": {},
   "source": [
    " # Calcul du maximum"
   ]
  },
  {
   "cell_type": "code",
   "execution_count": 5,
   "metadata": {},
   "outputs": [
    {
     "data": {
      "text/plain": [
       "16"
      ]
     },
     "execution_count": 5,
     "metadata": {},
     "output_type": "execute_result"
    }
   ],
   "source": [
    "df['note'].max()"
   ]
  },
  {
   "cell_type": "markdown",
   "metadata": {},
   "source": [
    "# Calcul de la somme"
   ]
  },
  {
   "cell_type": "code",
   "execution_count": 6,
   "metadata": {},
   "outputs": [
    {
     "data": {
      "text/plain": [
       "119"
      ]
     },
     "execution_count": 6,
     "metadata": {},
     "output_type": "execute_result"
    }
   ],
   "source": [
    "df['note'].sum()"
   ]
  },
  {
   "cell_type": "markdown",
   "metadata": {},
   "source": [
    "# A present nous allons realiser les quelques diagramme pour cela nous avons besoins de la librairie graphique \"MATPLOTLIB\" et \"PyLab\""
   ]
  },
  {
   "cell_type": "markdown",
   "metadata": {},
   "source": [
    "Nous allons utiliser le tableau des effectifs des mentions des 10 etudiants du tableau precedent"
   ]
  },
  {
   "cell_type": "code",
   "execution_count": 7,
   "metadata": {},
   "outputs": [
    {
     "name": "stdout",
     "output_type": "stream",
     "text": [
      "    Mention  Effectifs\n",
      "0  Passable          8\n",
      "1    A Bien          4\n",
      "2      Bien          2\n"
     ]
    }
   ],
   "source": [
    "data = {'Mention':pd.Series(['Passable', 'A Bien', 'Bien']),\n",
    "        'Effectifs':pd.Series([8, 4, 2])}\n",
    "df = pd.DataFrame(data)\n",
    "print (df)"
   ]
  },
  {
   "cell_type": "markdown",
   "metadata": {},
   "source": [
    "# Importation des libraries et creation de la variable pour la figure"
   ]
  },
  {
   "cell_type": "code",
   "execution_count": 9,
   "metadata": {},
   "outputs": [],
   "source": [
    "import matplotlib.pyplot as plt\n",
    "import pylab\n",
    "\n",
    "fig = plt.figure()"
   ]
  },
  {
   "cell_type": "markdown",
   "metadata": {},
   "source": [
    "# Creation de l'histogramme"
   ]
  },
  {
   "cell_type": "code",
   "execution_count": 10,
   "metadata": {},
   "outputs": [
    {
     "data": {
      "image/png": "[encoded data removed]",
      "text/plain": [
       "<Figure size 432x288 with 1 Axes>"
      ]
     },
     "metadata": {},
     "output_type": "display_data"
    }
   ],
   "source": [
    "mention = ['Passable', 'A Bien', 'Bien']\n",
    "effectif = [8, 4, 2]\n",
    "width = 1.0\n",
    "\n",
    "plt.bar(mention, effectif, width, color='b')\n",
    "plt.title('Histogramme')\n",
    "plt.ylabel('Effectifs')\n",
    "plt.xlabel('Mentions')\n",
    "plt.savefig('Histogramme.png')\n",
    "plt.show()"
   ]
  },
  {
   "cell_type": "markdown",
   "metadata": {},
   "source": [
    "# Creation du diagramme a bande"
   ]
  },
  {
   "cell_type": "markdown",
   "metadata": {},
   "source": [
    "La difference entre un la generation du diagramme à bande et histogramme c'est la largeur qui change qui pour notre cas present est nommée \"width\""
   ]
  },
  {
   "cell_type": "code",
   "execution_count": 11,
   "metadata": {},
   "outputs": [
    {
     "data": {
      "image/png": "[encoded data removed]",
      "text/plain": [
       "<Figure size 432x288 with 1 Axes>"
      ]
     },
     "metadata": {},
     "output_type": "display_data"
    }
   ],
   "source": [
    "mention = ['Passable', 'A Bien', 'Bien']\n",
    "effectif = [8, 4, 2]\n",
    "width = 0.05\n",
    "\n",
    "plt.bar(mention, effectif, width, color='g')\n",
    "plt.title('Diagramme à bande')\n",
    "plt.ylabel('Effectifs')\n",
    "plt.xlabel('Mentions')\n",
    "plt.savefig('Diagramme à bande.png')\n",
    "plt.show()"
   ]
  },
  {
   "cell_type": "markdown",
   "metadata": {},
   "source": [
    "# Création du diagramme circulaire"
   ]
  },
  {
   "cell_type": "code",
   "execution_count": 12,
   "metadata": {},
   "outputs": [
    {
     "data": {
      "image/png": "[encoded data removed]",
      "text/plain": [
       "<Figure size 432x288 with 1 Axes>"
      ]
     },
     "metadata": {},
     "output_type": "display_data"
    }
   ],
   "source": [
    "mention = 'Passable', 'A Bien', 'Bien'\n",
    "effectif = [8, 4, 2]\n",
    "colors = ['yellowgreen', 'gold', 'lightskyblue']\n",
    "explode = (0, 0.1, 0,)\n",
    "\n",
    "plt.pie(effectif, explode=explode, labels=mention, colors=colors, autopct='%1.1f%%', shadow=True, startangle=90)\n",
    "\n",
    "plt.axis('equal')\n",
    "plt.title('Diagramme circulaire')\n",
    "\n",
    "plt.savefig('circulaire.png')\n",
    "plt.show()"
   ]
  },
  {
   "cell_type": "markdown",
   "metadata": {},
   "source": [
    "# 2e Partie: Utilisations des lois pour faire des tests statistiques"
   ]
  },
  {
   "cell_type": "markdown",
   "metadata": {},
   "source": [
    "Pour faire des tests statistique nous allons faire utiliser la librairie \"scipy\" qui contient le package stats"
   ]
  },
  {
   "cell_type": "markdown",
   "metadata": {},
   "source": [
    "# Importation de la librairie scipy.stats"
   ]
  },
  {
   "cell_type": "code",
   "execution_count": 13,
   "metadata": {},
   "outputs": [],
   "source": [
    "import scipy.stats as stat"
   ]
  },
  {
   "cell_type": "markdown",
   "metadata": {},
   "source": [
    "L’objectif ici est d’obtenir les valeurs des quantiles et des fonctions de répartition pour différentes lois statistiques utilisées pour l’inférence."
   ]
  },
  {
   "cell_type": "markdown",
   "metadata": {},
   "source": [
    "# La loi normale centrée et réduite"
   ]
  },
  {
   "cell_type": "markdown",
   "metadata": {},
   "source": [
    "Le quantile d’ordre 0.95 de la loi normale suivant la méthode ppf (Percent Point Function)"
   ]
  },
  {
   "cell_type": "code",
   "execution_count": 15,
   "metadata": {},
   "outputs": [
    {
     "name": "stdout",
     "output_type": "stream",
     "text": [
      "1.6448536269514722\n"
     ]
    }
   ],
   "source": [
    "print(stat.norm.ppf(0.95,loc=0,scale=1))"
   ]
  },
  {
   "cell_type": "markdown",
   "metadata": {},
   "source": [
    "Le quantile d’ordre 1.96 de la loi normale suivant la méthode cdf (Cumulative Distribution Function)"
   ]
  },
  {
   "cell_type": "code",
   "execution_count": 16,
   "metadata": {},
   "outputs": [
    {
     "name": "stdout",
     "output_type": "stream",
     "text": [
      "0.9750021048517795\n"
     ]
    }
   ],
   "source": [
    "print(stat.norm.cdf(1.96,loc=0,scale=1))"
   ]
  },
  {
   "cell_type": "markdown",
   "metadata": {},
   "source": [
    "# La loi de Student - ddl = 30"
   ]
  },
  {
   "cell_type": "markdown",
   "metadata": {},
   "source": [
    "la méthode du ppf"
   ]
  },
  {
   "cell_type": "code",
   "execution_count": 17,
   "metadata": {},
   "outputs": [
    {
     "name": "stdout",
     "output_type": "stream",
     "text": [
      "1.6972608943617378\n"
     ]
    }
   ],
   "source": [
    "print(stat.t.ppf(0.95,df=30)) "
   ]
  },
  {
   "cell_type": "markdown",
   "metadata": {},
   "source": [
    "la méthode du cdf"
   ]
  },
  {
   "cell_type": "code",
   "execution_count": 18,
   "metadata": {},
   "outputs": [
    {
     "name": "stdout",
     "output_type": "stream",
     "text": [
      "0.9703288435519748\n"
     ]
    }
   ],
   "source": [
    "print(stat.t.cdf(1.96,df=30))"
   ]
  },
  {
   "cell_type": "markdown",
   "metadata": {},
   "source": [
    "# La loi du khi-2 - ddl = 10"
   ]
  },
  {
   "cell_type": "markdown",
   "metadata": {},
   "source": [
    "la méthode du ppf"
   ]
  },
  {
   "cell_type": "code",
   "execution_count": 19,
   "metadata": {},
   "outputs": [
    {
     "name": "stdout",
     "output_type": "stream",
     "text": [
      "4.278672463892877\n"
     ]
    }
   ],
   "source": [
    "print(stat.chi.ppf(0.95,df=10))"
   ]
  },
  {
   "cell_type": "markdown",
   "metadata": {},
   "source": [
    "la méthode du cdf"
   ]
  },
  {
   "cell_type": "code",
   "execution_count": 20,
   "metadata": {},
   "outputs": [
    {
     "name": "stdout",
     "output_type": "stream",
     "text": [
      "0.9907199233490717\n"
     ]
    }
   ],
   "source": [
    "print(stat.chi.cdf(4.84,df=10)) "
   ]
  },
  {
   "cell_type": "markdown",
   "metadata": {},
   "source": [
    "# La loi de Fisher, ddl numérateur = 1, ddl dénominateur = 30"
   ]
  },
  {
   "cell_type": "markdown",
   "metadata": {},
   "source": [
    "la méthode du ppf"
   ]
  },
  {
   "cell_type": "code",
   "execution_count": 22,
   "metadata": {},
   "outputs": [
    {
     "name": "stdout",
     "output_type": "stream",
     "text": [
      "4.170876785766691\n"
     ]
    }
   ],
   "source": [
    "print(stat.f.ppf(0.95,dfn=1,dfd=30))"
   ]
  },
  {
   "cell_type": "markdown",
   "metadata": {},
   "source": [
    "la méthode du cdf"
   ]
  },
  {
   "cell_type": "code",
   "execution_count": 23,
   "metadata": {},
   "outputs": [
    {
     "name": "stdout",
     "output_type": "stream",
     "text": [
      "0.9280786614651921\n"
     ]
    }
   ],
   "source": [
    "print(stat.f.cdf(3.48,dfn=1,dfd=30))"
   ]
  },
  {
   "cell_type": "markdown",
   "metadata": {},
   "source": [
    "# Exemple d'un test ANOVA a un facteur"
   ]
  },
  {
   "cell_type": "code",
   "execution_count": 82,
   "metadata": {},
   "outputs": [
    {
     "name": "stdout",
     "output_type": "stream",
     "text": [
      "F_onewayResult(statistic=1.7777910697271164, pvalue=0.17932466808492342)\n"
     ]
    }
   ],
   "source": [
    "dbeef = np.array([495,477,425,322,482,587,370,322,479,375,330,300,386,401,645,440,317,319,298,253])\n",
    "dmeat = np.array([458,506,473,545,496,360,387,386,507,393,405,372,144,511,405,428,339])\n",
    "dpoultry = np.array([430,375,396,383,387,542,359,357,528,513,426,513,358,581,588,522,545])\n",
    "\n",
    "print(stat.f_oneway(dbeef,dmeat,dpoultry)) "
   ]
  },
  {
   "cell_type": "markdown",
   "metadata": {},
   "source": [
    "Fin du tutorial Cordialement DAOUDA HASSANA DAOUDA"
   ]
  }
 ],
 "metadata": {
  "kernelspec": {
   "display_name": "Python 3",
   "language": "python",
   "name": "python3"
  },
  "language_info": {
   "codemirror_mode": {
    "name": "ipython",
    "version": 3
   },
   "file_extension": ".py",
   "mimetype": "text/x-python",
   "name": "python",
   "nbconvert_exporter": "python",
   "pygments_lexer": "ipython3",
   "version": "3.6.5"
  }
 },
 "nbformat": 4,
 "nbformat_minor": 2
}
